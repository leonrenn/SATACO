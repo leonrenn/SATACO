{
 "cells": [
  {
   "attachments": {},
   "cell_type": "markdown",
   "metadata": {},
   "source": [
    "# Toy Example"
   ]
  },
  {
   "cell_type": "code",
   "execution_count": 5,
   "metadata": {},
   "outputs": [],
   "source": [
    "import numpy as np\n",
    "import matplotlib.pyplot as plt\n",
    "import pandas as pd\n",
    "from itertools import combinations_with_replacement\n",
    "from utils.path_finder import PathFinder\n",
    "import networkx as nx"
   ]
  },
  {
   "attachments": {},
   "cell_type": "markdown",
   "metadata": {},
   "source": [
    "## Events in SimpleAnalysis Style\n",
    "\n",
    "Simple Analysis provides us with either accepted (1) or rejected (0) events from different signal regions (SR).\n",
    "These can also be from whole different analyses.\n",
    "The shapes of the five SRs overlap in a highdimensional setting. For demostration \n",
    "purposes this is projected onto 2D.\n",
    "\n",
    "![](../other/image.png)"
   ]
  },
  {
   "attachments": {},
   "cell_type": "markdown",
   "metadata": {},
   "source": [
    "The data does ***not*** correspond perfectly to the image above but gives an intuition about\n",
    "how data can be correlated."
   ]
  },
  {
   "cell_type": "code",
   "execution_count": 12,
   "metadata": {},
   "outputs": [
    {
     "name": "stdout",
     "output_type": "stream",
     "text": [
      "   SR_1  SR_2  SR_3  SR_4  SR_5\n",
      "0     1     0     0     0     0\n",
      "1     0     0     0     1     1\n",
      "2     0     1     1     0     0\n",
      "3     0     1     1     0     0\n",
      "4     0     1     0     0     0\n",
      "5     0     0     1     1     0\n",
      "6     0     0     1     0     1\n"
     ]
    }
   ],
   "source": [
    "df_SR_events = pd.DataFrame(data=[[1, 0, 0, 0, 0], \n",
    "                                  [0, 0, 0, 1, 1], \n",
    "                                  [0, 1, 1, 0, 0], \n",
    "                                  [0, 1, 1, 0, 0], \n",
    "                                  [0, 1, 0, 0, 0], \n",
    "                                  [0, 0, 1, 1, 0], \n",
    "                                  [0, 0, 1, 0, 1]])\n",
    "df_SR_events = df_SR_events.rename(columns={0: \"SR_1\",\n",
    "                                            1: \"SR_2\", \n",
    "                                            2: \"SR_3\", \n",
    "                                            3: \"SR_4\", \n",
    "                                            4: \"SR_5\"})\n",
    "print(df_SR_events)"
   ]
  },
  {
   "attachments": {},
   "cell_type": "markdown",
   "metadata": {},
   "source": [
    "Retrieve signal region names."
   ]
  },
  {
   "cell_type": "code",
   "execution_count": 7,
   "metadata": {},
   "outputs": [
    {
     "name": "stdout",
     "output_type": "stream",
     "text": [
      "Signal Regions in this toy example SR_1 SR_2 SR_3 SR_4 SR_5\n"
     ]
    }
   ],
   "source": [
    "SR_names = list(df_SR_events.columns)\n",
    "print(\"Signal Regions in this toy example\",*SR_names)"
   ]
  },
  {
   "attachments": {},
   "cell_type": "markdown",
   "metadata": {},
   "source": [
    "## Generate Combinations"
   ]
  },
  {
   "cell_type": "code",
   "execution_count": 14,
   "metadata": {},
   "outputs": [
    {
     "name": "stdout",
     "output_type": "stream",
     "text": [
      "Print combinations of SRs:  ('SR_1', 'SR_1') ('SR_1', 'SR_2') ('SR_1', 'SR_3') ('SR_1', 'SR_4') ('SR_1', 'SR_5') ('SR_2', 'SR_2') ('SR_2', 'SR_3') ('SR_2', 'SR_4') ('SR_2', 'SR_5') ('SR_3', 'SR_3') ('SR_3', 'SR_4') ('SR_3', 'SR_5') ('SR_4', 'SR_4') ('SR_4', 'SR_5') ('SR_5', 'SR_5')\n",
      "\n",
      "\n",
      "Print combinations of indeces:  (0, 0) (0, 1) (0, 2) (0, 3) (0, 4) (1, 1) (1, 2) (1, 3) (1, 4) (2, 2) (2, 3) (2, 4) (3, 3) (3, 4) (4, 4)\n"
     ]
    }
   ],
   "source": [
    "combs = [comb for comb in combinations_with_replacement(SR_names, r=2)]\n",
    "indices = [idx for idx in combinations_with_replacement(range(0, len(SR_names)), r=2)]\n",
    "print(\"Print combinations of SRs: \", *combs)\n",
    "print(\"\\n\")\n",
    "print(\"Print combinations of indeces: \", *indices)"
   ]
  },
  {
   "attachments": {},
   "cell_type": "markdown",
   "metadata": {},
   "source": [
    "## Iterate through Combinations and Calulate Correlation matrix"
   ]
  },
  {
   "attachments": {},
   "cell_type": "markdown",
   "metadata": {},
   "source": [
    "The correlation of signal regions is evaluated with the following formula:<br>\n",
    "$$\\mathrm{corr}(\\mathbf{SR_i}, \\mathbf{SR_j}) = \\frac{\\mathbf{SR_i}\\cdot \\mathbf{SR_j}}{|\\mathbf{SR_i}|\\cdot |\\mathbf{SR_j}|}$$\n",
    "This is just the formula for determining the angle between two vectors.<br>\n",
    "<br>\n",
    "![](../other/vectors.png)"
   ]
  },
  {
   "cell_type": "code",
   "execution_count": 9,
   "metadata": {},
   "outputs": [
    {
     "name": "stdout",
     "output_type": "stream",
     "text": [
      "[[1.    0.    0.    0.    0.   ]\n",
      " [0.    1.    0.577 0.    0.   ]\n",
      " [0.    0.577 1.    0.354 0.354]\n",
      " [0.    0.    0.354 1.    0.5  ]\n",
      " [0.    0.    0.354 0.5   1.   ]]\n"
     ]
    }
   ],
   "source": [
    "correaltion_matrix = np.empty(shape=(len(SR_names), len(SR_names)))\n",
    "for idxs, comb in zip(indices, combs):\n",
    "    i, j = idxs\n",
    "    vec_i = df_SR_events[comb[0]]\n",
    "    vec_j = df_SR_events[comb[1]]\n",
    "    correaltion_matrix[i, j] = np.dot(\n",
    "        a=vec_i,\n",
    "        b=vec_j)/(np.linalg.norm(vec_i) * np.linalg.norm(vec_j))\n",
    "    if i != j:\n",
    "        correaltion_matrix[j, i] = correaltion_matrix[i, j]\n",
    "print(np.round(correaltion_matrix, 3))"
   ]
  },
  {
   "attachments": {},
   "cell_type": "markdown",
   "metadata": {},
   "source": [
    "## Initialize Pathfinder Algorithm"
   ]
  },
  {
   "attachments": {},
   "cell_type": "markdown",
   "metadata": {},
   "source": [
    "On thing that the path finder algorithm does for is is to apply the threshold and observe if one edge is accessible or not.\n",
    "For this case the matrix would look like the following.<br>\n",
    "<br>\n",
    "![](../other/binary_corr_matrix.png)\n"
   ]
  },
  {
   "cell_type": "code",
   "execution_count": 15,
   "metadata": {},
   "outputs": [
    {
     "data": {
      "image/png": "[encoded data removed]",
      "text/plain": [
       "<Figure size 432x288 with 1 Axes>"
      ]
     },
     "metadata": {},
     "output_type": "display_data"
    }
   ],
   "source": [
    "node_dict = {0: \"SR_1\",\n",
    "             1: \"SR_2\", \n",
    "             2: \"SR_3\", \n",
    "             3: \"SR_4\", \n",
    "             4: \"SR_5\",\n",
    "             5: \"Sink\"}\n",
    "\n",
    "# path finder\n",
    "pf = PathFinder(correlations=correaltion_matrix,\n",
    "                threshold=0.4,\n",
    "                weights=None)\n",
    "\n",
    "# transform idx nodes and edges from graph \n",
    "nodes_idx = pf.graph._node\n",
    "nodes_sr = [node_dict[node] for node in nodes_idx]\n",
    "edges_idx = pf.graph.edges()\n",
    "edges_sr = [(node_dict[edge_tupl[0]], node_dict[edge_tupl[1]]) for edge_tupl in edges_idx]\n",
    "\n",
    "dag = nx.DiGraph()\n",
    "\n",
    "\n",
    "dag.add_nodes_from(nodes_sr)\n",
    "dag.add_edges_from(edges_sr)\n",
    "nx.draw_circular(G=dag, \n",
    "                 with_labels=True,\n",
    "                 node_color=\"pink\",\n",
    "                 node_size=1000,\n",
    "                 width=2)\n",
    "plt.title(\"DAG of Signal Regions\")\n",
    "plt.axis(\"off\")\n",
    "plt.savefig(\"../other/dag.png\")\n",
    "plt.show()"
   ]
  },
  {
   "attachments": {},
   "cell_type": "markdown",
   "metadata": {},
   "source": [
    "## Start Algorithm for Finding Top Graph"
   ]
  },
  {
   "cell_type": "code",
   "execution_count": 11,
   "metadata": {},
   "outputs": [
    {
     "name": "stdout",
     "output_type": "stream",
     "text": [
      "\n",
      "Start finding top graph...\n",
      "\n"
     ]
    },
    {
     "name": "stderr",
     "output_type": "stream",
     "text": [
      "100%|██████████| 5/5 [00:00<00:00, 5417.60it/s]"
     ]
    },
    {
     "name": "stdout",
     "output_type": "stream",
     "text": [
      "Longest path with the highest weight is {'path': [0, 2, 4], 'weight': 3.0}.\n",
      "Others are possible but this was ranked number one.\n",
      "Different result with weights.\n"
     ]
    },
    {
     "name": "stderr",
     "output_type": "stream",
     "text": [
      "\n"
     ]
    }
   ],
   "source": [
    "longest_path = nx.dag_longest_path(dag)\n",
    "proposed_path = pf.find_path(top=5)\n",
    "print(f\"Longest path with the highest weight is {proposed_path[0]}.\"\n",
    "      \"\\nOthers are possible but this was ranked number one.\"\n",
    "      \"\\nDifferent result with weights.\")"
   ]
  }
 ],
 "metadata": {
  "kernelspec": {
   "display_name": "base",
   "language": "python",
   "name": "python3"
  },
  "language_info": {
   "codemirror_mode": {
    "name": "ipython",
    "version": 3
   },
   "file_extension": ".py",
   "mimetype": "text/x-python",
   "name": "python",
   "nbconvert_exporter": "python",
   "pygments_lexer": "ipython3",
   "version": "3.9.11"
  },
  "orig_nbformat": 4,
  "vscode": {
   "interpreter": {
    "hash": "3192385147c4dbf50dea39595916349a4e8576cb118be8fcb78e7fdceff78662"
   }
  }
 },
 "nbformat": 4,
 "nbformat_minor": 2
}
